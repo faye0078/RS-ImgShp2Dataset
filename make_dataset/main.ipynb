{
 "cells": [
  {
   "cell_type": "code",
   "execution_count": 1,
   "metadata": {},
   "outputs": [],
   "source": [
    "import glob\n",
    "import rasterio\n",
    "import cv2\n",
    "from shp_functions import *\n",
    "from raster_functions import *\n",
    "from configs import get_colormap, get_guiyang_labelmap\n",
    "from clip_change import *\n",
    "from utils import *\n",
    "from clip_classify import main as clip_classify"
   ]
  },
  {
   "cell_type": "code",
   "execution_count": 3,
   "metadata": {},
   "outputs": [
    {
     "name": "stdout",
     "output_type": "stream",
     "text": [
      "{'灌木林地': 53910.56653999957, '其他林地': 12440.165599999997, '农村宅基地': 7218.820410000007, '其他草地': 2618.034600000015, '乔木林地': 159772.18816999992, '农村道路': 2890.564139999999, '设施农用地': 583.9251599999994, '机关团体新闻出版用地': 213.15065, '科教文卫用地': 762.0818600000006, '竹林地': 726.0845999999984, '河流水面': 2002.847639999996, '采矿用地': 921.3554199999998, '茶园': 2012.3748400000004, '公路用地': 3878.9109099999932, '工业用地': 1337.6071800000027, '坑塘水面': 540.9604999999995, '其他建筑': 582.0844000000005, '商业服务业设施用地': 804.5830500000003, '水库水面': 4808.698879999999, '水工建筑用地': 82.02315999999995, '公用设施用地': 172.56055999999992, '裸岩石砾地': 317.87310999999977, '其他园地': 943.260489999999, '天然牧草地': 1.8459600000000003, '果园': 4465.4570500000145, '城镇村道路用地': 563.0558300000002, '裸土地': 7.633369999999998, '田坎': 0.21128, '交通服务场站用地': 192.37021999999996, '城镇住宅用地': 2805.125480000012, '沟渠': 194.02116999999987, '内陆滩涂': 19.97151, '物流仓储用地': 221.06546999999978, '公园与绿地': 95.26933000000001, '港口码头用地': 0.6615, '水田': 46173.00647000009, '旱地': 37798.02211000037, '水浇地': 1042.5924500000008, '空闲地': 7.682900000000003, '铁路用地': 293.98091999999957, '人工牧草地': 0.49235000000000007, '机场用地': 131.89900000000006, '管道运输用地': 0.11270999999999999}\n"
     ]
    }
   ],
   "source": [
    "feature_count = area_features_by_field(\"/media/dell/DATA/wy/data/guiyang/标签/分类/剑河/shape_label/jianhe.shp\")\n",
    "feature_count_1 = area_features_by_field(\"/media/dell/DATA/wy/data/guiyang/标签/分类/西秀/shape_label/xixiu2021.shp\")\n",
    "import collections\n",
    "feature_count = collections.Counter(feature_count)\n",
    "feature_count_1 = collections.Counter(feature_count_1)\n",
    "counter = feature_count + feature_count_1\n",
    "count = dict(counter)\n",
    "chinese_count = {}\n",
    "for index in count:\n",
    "    if index is None:\n",
    "        continue\n",
    "    chinese_index = CORRESPOND[index]\n",
    "    if chinese_index not in chinese_count:\n",
    "        chinese_count[chinese_index] = count[index] * 1000000\n",
    "    else:\n",
    "        chinese_count[chinese_index] += count[index] * 1000000\n",
    "print(chinese_count)"
   ]
  },
  {
   "cell_type": "code",
   "execution_count": 16,
   "metadata": {},
   "outputs": [],
   "source": [
    "import pandas as pd\n",
    "\n",
    "# 创建字典\n",
    "my_dict = dict(chinese_count)\n",
    "\n",
    "# 创建数据框\n",
    "df = pd.DataFrame(my_dict, index=[0])\n",
    "\n",
    "# 将数据框导出为 Excel 文件\n",
    "df.to_excel('my_dict.xlsx')"
   ]
  }
 ],
 "metadata": {
  "kernelspec": {
   "display_name": "wy",
   "language": "python",
   "name": "python3"
  },
  "language_info": {
   "codemirror_mode": {
    "name": "ipython",
    "version": 3
   },
   "file_extension": ".py",
   "mimetype": "text/x-python",
   "name": "python",
   "nbconvert_exporter": "python",
   "pygments_lexer": "ipython3",
   "version": "3.8.13"
  },
  "orig_nbformat": 4,
  "vscode": {
   "interpreter": {
    "hash": "f371fdbebc93a5498f84c2951ac050cd9bb3c504a7bc98bd7c39e28f3c12b6b3"
   }
  }
 },
 "nbformat": 4,
 "nbformat_minor": 2
}
