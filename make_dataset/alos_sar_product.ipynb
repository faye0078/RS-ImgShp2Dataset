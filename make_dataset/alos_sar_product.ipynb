{
 "cells": [
  {
   "cell_type": "code",
   "execution_count": 2,
   "metadata": {},
   "outputs": [],
   "source": [
    "import os\n",
    "base_dir = '/mnt/bee9bc2f-b897-4648-b8c4-909715332cb4/wy/data/guiyang/2021-SAR/'\n",
    "dataset_id = 'ALOS2401370520-211028'\n",
    "img_name = 'IMG-HH-ALOS2401370520-211028-UBDR1.1__A'\n",
    "\n",
    "img_path = os.path.join(base_dir, dataset_id, img_name)\n",
    "fp = open(img_path, mode='rb')"
   ]
  },
  {
   "cell_type": "code",
   "execution_count": 3,
   "metadata": {},
   "outputs": [
    {
     "name": "stdout",
     "output_type": "stream",
     "text": [
      "32520\n",
      "23184\n"
     ]
    }
   ],
   "source": [
    "fp.seek(236)\n",
    "nline = int(fp.read(8))\n",
    "print(nline)\n",
    "fp.seek(248)\n",
    "npixel = int(fp.read(8))\n",
    "print(npixel)"
   ]
  },
  {
   "cell_type": "code",
   "execution_count": null,
   "metadata": {},
   "outputs": [],
   "source": [
    "import struct\n",
    "import numpy as np\n",
    "nrec = 544 + npixel*8\n",
    "fp.seek(720)\n",
    "data = struct.unpack(\">%s\"%(int((nrec*nline)/4))+\"f\",fp.read(int(nrec*nline)))\n",
    "# シグナルデータを32bit浮動小数点数として読み込み\n",
    "data = np.array(data).reshape(-1,int(nrec/4)) # 2次元データへ変換\n",
    "data = data[:,int(544/4):int(nrec/4)] # prefixを削除\n",
    "slc = data[:,::2] + 1j*data[:,1::2]\n",
    "\n",
    "nrec = 544 + npixel*8\n",
    "fp.seek(720)\n",
    "data = struct.unpack(\">%s\"%(int((nrec*nline)/4))+\"f\",fp.read(int(nrec*nline)))\n",
    "# シグナルデータを32bit浮動小数点数として読み込み\n",
    "data = np.array(data).reshape(-1,int(nrec/4)) # 2次元データへ変換\n",
    "data = data[:,int(544/4):int(nrec/4)] # prefixを削除\n",
    "slc = data[:,::2] + 1j*data[:,1::2]"
   ]
  },
  {
   "cell_type": "code",
   "execution_count": null,
   "metadata": {},
   "outputs": [],
   "source": [
    "sigma = 20*np.log10(abs(slc)) -83.0 -32.0\n",
    "phase = np.angle(slc)"
   ]
  },
  {
   "cell_type": "code",
   "execution_count": null,
   "metadata": {},
   "outputs": [],
   "source": [
    "import cv2\n",
    "import matplotlib.pyplot as plt\n",
    "\n",
    "sigma = np.array(255*(sigma-np.amin(sigma))/(np.amax(sigma)-np.amin(sigma)),dtype=\"uint8\")\n",
    "sigma = cv2.equalizeHist(sigma)\n",
    "plt.figure()\n",
    "plt.imshow(sigma, cmap = \"gray\")\n",
    "plt.imsave('figure.jpg', sigma, cmap = \"gray\")"
   ]
  }
 ],
 "metadata": {
  "kernelspec": {
   "display_name": "geo_process",
   "language": "python",
   "name": "python3"
  },
  "language_info": {
   "codemirror_mode": {
    "name": "ipython",
    "version": 3
   },
   "file_extension": ".py",
   "mimetype": "text/x-python",
   "name": "python",
   "nbconvert_exporter": "python",
   "pygments_lexer": "ipython3",
   "version": "3.8.16"
  },
  "orig_nbformat": 4
 },
 "nbformat": 4,
 "nbformat_minor": 2
}
